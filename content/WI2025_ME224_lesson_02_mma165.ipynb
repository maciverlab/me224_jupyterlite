{
  "nbformat": 4,
  "nbformat_minor": 0,
  "metadata": {
    "colab": {
      "provenance": []
    },
    "kernelspec": {
      "name": "python3",
      "display_name": "Python 3"
    }
  },
  "cells": [
    {
      "cell_type": "markdown",
      "metadata": {
        "id": "A-KmQbG3z_6y"
      },
      "source": [
        "# Lesson 2\n",
        "\n",
        "This is a skeleton notebook for lesson 2.  I have it set to View Only, so you will need to make your own copy to work on: File|Save a copy in Drive\n",
        "\n",
        "Python notebooks are also called \"iPython notebooks\" or \"Jupyter notebooks\" and the filename extention is .ipynb (ipython notebook).  \n",
        "\n",
        "Drive opens .ipynb files in Colaboratory (colab), which is a google-hosted execution environment to run your notebook.  However, .ipynb is a standard file format, and you can download the .ipynb file and run it on your own machine rather than in the cloud.   You will probably choose to run it in Jupyter, which is a standard component of the Anaconda package.   Lots of unfamilar words, but if you want to try out those things, all free, just google those words.  "
      ]
    },
    {
      "cell_type": "markdown",
      "source": [
        "## Scratch pad colab notebook\n",
        "\n",
        "Useful scratchpad: unsaved empty notebook (not saved to your colab folder)\n",
        "https://colab.research.google.com/notebooks/empty.ipynb\n"
      ],
      "metadata": {
        "id": "u84h9TfeRHAD"
      }
    },
    {
      "cell_type": "markdown",
      "source": [
        "#Loops\n",
        "\n",
        "\"dot\" notation, how AI is helpful for things like this that are not well indexed in typical python resources. e.g.: \"Explain what dot notation is used for in python\"\n",
        "\n",
        "Loops in loops?\n",
        "\n",
        "Importing libraries\n",
        "\n",
        "print with end=\n",
        "\n",
        "Write a program that operates on only the even numbers from 2 to 30. For each even number, print the number, the factorial of the number, and the log (base e) of the factorial of the number, with appropriate words.\n",
        "\n",
        "You will have to import the math module if you want to use the function math.factorial() or math.log()"
      ],
      "metadata": {
        "id": "2q3PWxI8dxTM"
      }
    },
    {
      "cell_type": "code",
      "source": [
        "# first generate even numbers between 2 and 30\n",
        "\n",
        "\n",
        "for i in range(2,31):\n",
        "    # filter out numbers that are odd\n",
        "    if i%2==0:\n",
        "        # Remember factorial of N is N*N-1*N-2 .... until N= 1\n",
        "        myfact = 1\n",
        "        init_val = i\n",
        "        while init_val > 0:\n",
        "            myfact=myfact*init_val\n",
        "            init_val = init_val - 1 # init_val -= 1\n",
        "        print('For a value of ', i, ' the factorial is ', myfact)\n"
      ],
      "metadata": {
        "colab": {
          "base_uri": "https://localhost:8080/"
        },
        "id": "v8PgDS7Ow_TH",
        "outputId": "e1a2d41e-7fc1-4710-fa45-68206cd83a51"
      },
      "execution_count": 7,
      "outputs": [
        {
          "output_type": "stream",
          "name": "stdout",
          "text": [
            "For a value of  2  the factorial is  2\n",
            "For a value of  4  the factorial is  24\n",
            "For a value of  6  the factorial is  720\n",
            "For a value of  8  the factorial is  40320\n",
            "For a value of  10  the factorial is  3628800\n",
            "For a value of  12  the factorial is  479001600\n",
            "For a value of  14  the factorial is  87178291200\n",
            "For a value of  16  the factorial is  20922789888000\n",
            "For a value of  18  the factorial is  6402373705728000\n",
            "For a value of  20  the factorial is  2432902008176640000\n",
            "For a value of  22  the factorial is  1124000727777607680000\n",
            "For a value of  24  the factorial is  620448401733239439360000\n",
            "For a value of  26  the factorial is  403291461126605635584000000\n",
            "For a value of  28  the factorial is  304888344611713860501504000000\n",
            "For a value of  30  the factorial is  265252859812191058636308480000000\n"
          ]
        }
      ]
    },
    {
      "cell_type": "markdown",
      "metadata": {
        "id": "oh79vvLLId8I"
      },
      "source": [
        "#  Code cells\n",
        "What if you put just an expression on a line, no \"print\"?\n",
        "\n",
        "What if you use spaces instead of tabs, or mix them?\n",
        "\n",
        "Can I supress the *newline* after every print?\n",
        "\n",
        "Find the cell context menu\n"
      ]
    },
    {
      "cell_type": "code",
      "source": [
        "5*5\n",
        "3*3\n",
        "y = 5\n",
        "\n",
        "\n",
        "print('my friend', end='\\n')\n",
        "print('has brown hair')"
      ],
      "metadata": {
        "colab": {
          "base_uri": "https://localhost:8080/"
        },
        "id": "i_LmDFQ3104h",
        "outputId": "eacd3476-60b4-4513-9493-9ff5cd83dc86"
      },
      "execution_count": 15,
      "outputs": [
        {
          "output_type": "stream",
          "name": "stdout",
          "text": [
            "my friend\n",
            "has brown hair\n"
          ]
        }
      ]
    },
    {
      "cell_type": "code",
      "metadata": {
        "id": "RQglbXthIbii"
      },
      "source": [
        "for i in range(10):\n",
        "    print(i)\n",
        "print(\"is a number\")    #indentation matters\n",
        "print(\"i'm done\")"
      ],
      "execution_count": null,
      "outputs": []
    },
    {
      "cell_type": "markdown",
      "source": [
        "**How to comment and uncomment blocks of text**\n"
      ],
      "metadata": {
        "id": "qqjV9Sl0MVRH"
      }
    },
    {
      "cell_type": "markdown",
      "metadata": {
        "id": "d89wG09pKNa1"
      },
      "source": [
        "# `range`\n",
        "\n",
        "Like everything in python, it is an object.\n",
        "\n",
        "It's a special kind of object: an iterable\n",
        "\n",
        "Can I change `number` inside the loop?"
      ]
    },
    {
      "cell_type": "code",
      "metadata": {
        "id": "JYbZvCIaKWk-",
        "colab": {
          "base_uri": "https://localhost:8080/"
        },
        "outputId": "19696f8d-0eca-4b92-bcf7-07bd9aee9f3c"
      },
      "source": [
        "for number in range(20):\n",
        "    if (number % 5 == 0):\n",
        "        print(number, 'is divisible by five')\n",
        "\n"
      ],
      "execution_count": 19,
      "outputs": [
        {
          "output_type": "stream",
          "name": "stdout",
          "text": [
            "0 is divisible by five\n",
            "5 is divisible by five\n",
            "10 is divisible by five\n",
            "15 is divisible by five\n"
          ]
        }
      ]
    },
    {
      "cell_type": "code",
      "source": [
        "type(number)"
      ],
      "metadata": {
        "colab": {
          "base_uri": "https://localhost:8080/"
        },
        "id": "ycktz8da3L_G",
        "outputId": "38d3c52d-63b9-42ba-d6db-8de1c8177752"
      },
      "execution_count": 20,
      "outputs": [
        {
          "output_type": "execute_result",
          "data": {
            "text/plain": [
              "int"
            ]
          },
          "metadata": {},
          "execution_count": 20
        }
      ]
    },
    {
      "cell_type": "code",
      "source": [
        "j = 1\n",
        "type(j)"
      ],
      "metadata": {
        "colab": {
          "base_uri": "https://localhost:8080/"
        },
        "id": "KzYl_kwK3bbJ",
        "outputId": "e9b7082f-6df5-4a54-e35c-6895841a8618"
      },
      "execution_count": 22,
      "outputs": [
        {
          "output_type": "execute_result",
          "data": {
            "text/plain": [
              "int"
            ]
          },
          "metadata": {},
          "execution_count": 22
        }
      ]
    },
    {
      "cell_type": "code",
      "source": [
        "j = 1.\n",
        "type(j)"
      ],
      "metadata": {
        "colab": {
          "base_uri": "https://localhost:8080/"
        },
        "id": "IFwRiRXj3d5q",
        "outputId": "0e9ac6c4-48ec-41c8-b8c4-daa4ba64b94d"
      },
      "execution_count": 24,
      "outputs": [
        {
          "output_type": "execute_result",
          "data": {
            "text/plain": [
              "float"
            ]
          },
          "metadata": {},
          "execution_count": 24
        }
      ]
    },
    {
      "cell_type": "code",
      "metadata": {
        "id": "WZXXTaXALM7W"
      },
      "source": [
        "type(1.)\n",
        "\n",
        "# do this with a range object, by defining a variable = range(X)\n",
        "# what kind of object is it?"
      ],
      "execution_count": null,
      "outputs": []
    },
    {
      "cell_type": "markdown",
      "metadata": {
        "id": "YWHlwG8LRsMY"
      },
      "source": [
        "# explore `type`,   `import`,    attributes.\n",
        "\n",
        "what's with those dots, like `math.sin()` ?\n",
        "\n",
        "`import`, like everything, note that cells run in order run, not top to bottom\n",
        "\n",
        "`clear output` by cell or whole nb\n",
        "\n",
        "`restart runtime`\n",
        "\n",
        "\n",
        "\n",
        "\n"
      ]
    },
    {
      "cell_type": "markdown",
      "metadata": {
        "id": "yeZz1t-cEvUH"
      },
      "source": []
    },
    {
      "cell_type": "code",
      "metadata": {
        "id": "nPqsvIDn_h8u",
        "colab": {
          "base_uri": "https://localhost:8080/"
        },
        "outputId": "7308b9db-f66b-456e-eff8-9dcaffe38dec"
      },
      "source": [
        "import math\n",
        "\n",
        "# explore type()\n",
        "a = [2, 4, 6, 'a']\n",
        "\n",
        "\n",
        "a[0]\n",
        "a[1]\n",
        "math.sin(3.)"
      ],
      "execution_count": 29,
      "outputs": [
        {
          "output_type": "execute_result",
          "data": {
            "text/plain": [
              "0.1411200080598672"
            ]
          },
          "metadata": {},
          "execution_count": 29
        }
      ]
    },
    {
      "cell_type": "code",
      "source": [
        "type(a[3])"
      ],
      "metadata": {
        "colab": {
          "base_uri": "https://localhost:8080/"
        },
        "id": "qudMqv-64Qqb",
        "outputId": "9343c16c-0fe0-4b77-af52-a2fe3cb172e2"
      },
      "execution_count": 31,
      "outputs": [
        {
          "output_type": "execute_result",
          "data": {
            "text/plain": [
              "str"
            ]
          },
          "metadata": {},
          "execution_count": 31
        }
      ]
    },
    {
      "cell_type": "code",
      "metadata": {
        "id": "KTNM_zCcRvEi"
      },
      "source": [
        "import math\n",
        "j = 1.1\n",
        "k = math.sin(j)\n",
        "print(k)"
      ],
      "execution_count": null,
      "outputs": []
    },
    {
      "cell_type": "code",
      "metadata": {
        "id": "FYRTfSoyz_YL",
        "colab": {
          "base_uri": "https://localhost:8080/"
        },
        "outputId": "3c0f5391-7902-4180-8708-32727a05806f"
      },
      "source": [
        "a = (2 + 4j)\n",
        "print(abs(a))"
      ],
      "execution_count": 32,
      "outputs": [
        {
          "output_type": "stream",
          "name": "stdout",
          "text": [
            "4.47213595499958\n"
          ]
        }
      ]
    },
    {
      "cell_type": "markdown",
      "metadata": {
        "id": "2cc-ikyEFhby"
      },
      "source": [
        "# Proper style in python\n",
        "...there are certain style considerations that dictate good practice in naming variables:\n",
        "\n",
        "* Variable names should be meaningful (`area` is better than `a`)  \n",
        "* But not *too* long.  `the_area_of_the_triangle` is unwieldy\n",
        "* Generally, don’t use `I` (uppercase i), `l` (lowercase L) or the uppercase letter `O`: they look too much like the digits `1` and `0`\n",
        "* The variable names `i`, `j` and `k` are usually used as integer counters;\n",
        "Use lowercase names, with words separated by underscores rather than ‘Camel-Case’: for example, `mean_height` and not `MeanHeight`\n",
        "\n",
        "These and many other rules and conventions are codified in a style guide called PEP8 which forms part of the Python documentation.\n",
        "\n",
        "Quick markdown guide: https://colab.research.google.com/notebooks/markdown_guide.ipynb; PEP8 standard https://peps.python.org/pep-0008/\n"
      ]
    },
    {
      "cell_type": "markdown",
      "metadata": {
        "id": "Jl4ZVe_6aqpx"
      },
      "source": [
        "# Logic\n",
        "\n",
        "* `and`, `or`\n",
        "\n",
        "* `True`, `False`\n",
        "\n",
        "* `=` vs. `==`,\n",
        "\n",
        "* '!=', `<`, `>`\n",
        "\n",
        "I love parentheses"
      ]
    },
    {
      "cell_type": "code",
      "metadata": {
        "id": "DZ04WS66FUYb",
        "colab": {
          "base_uri": "https://localhost:8080/"
        },
        "outputId": "f40fd211-43e5-4d95-8fa8-2d8b265c3d54"
      },
      "source": [
        "1==(1 or 3)>4\n"
      ],
      "execution_count": 35,
      "outputs": [
        {
          "output_type": "execute_result",
          "data": {
            "text/plain": [
              "False"
            ]
          },
          "metadata": {},
          "execution_count": 35
        }
      ]
    },
    {
      "cell_type": "code",
      "source": [
        "'1'=='1' or 3>4"
      ],
      "metadata": {
        "colab": {
          "base_uri": "https://localhost:8080/"
        },
        "id": "D7jp_39LsMVt",
        "outputId": "6d85f64d-0035-48d9-ffe7-26de7e00ca66"
      },
      "execution_count": 36,
      "outputs": [
        {
          "output_type": "execute_result",
          "data": {
            "text/plain": [
              "True"
            ]
          },
          "metadata": {},
          "execution_count": 36
        }
      ]
    },
    {
      "cell_type": "code",
      "metadata": {
        "id": "7rg1oPhtFPNN",
        "colab": {
          "base_uri": "https://localhost:8080/"
        },
        "outputId": "73abeccd-3971-43b1-db4a-0ec87b7d2e29"
      },
      "source": [
        "a=1\n",
        "print(a)"
      ],
      "execution_count": 37,
      "outputs": [
        {
          "output_type": "stream",
          "name": "stdout",
          "text": [
            "1\n"
          ]
        }
      ]
    },
    {
      "cell_type": "code",
      "metadata": {
        "id": "upcwRc-WFXFT",
        "colab": {
          "base_uri": "https://localhost:8080/"
        },
        "outputId": "6d837f01-416f-4cba-fb8a-c4dc654a3d07"
      },
      "source": [
        "a=3\n",
        "print(a)"
      ],
      "execution_count": 38,
      "outputs": [
        {
          "output_type": "stream",
          "name": "stdout",
          "text": [
            "3\n"
          ]
        }
      ]
    },
    {
      "cell_type": "markdown",
      "metadata": {
        "id": "gMhC3k67F4ZR"
      },
      "source": [
        "# Conditionals"
      ]
    },
    {
      "cell_type": "code",
      "metadata": {
        "id": "fUuMXOHlGRfN"
      },
      "source": [
        "for i in range(10):\n",
        "    if (i > 5):\n",
        "        print(i, ' is greater than 5')\n",
        "    elif (i == 3):\n",
        "        print(\"three?\")\n",
        "    elif (i == 1):\n",
        "        print('one?')\n",
        "    else:\n",
        "        print(i, \" isn't greater than five\")\n"
      ],
      "execution_count": null,
      "outputs": []
    },
    {
      "cell_type": "markdown",
      "metadata": {
        "id": "Um4nout6G-bI"
      },
      "source": [
        "# Lists and strings\n",
        "\n",
        "Lists and strings are iterable, just like range\n",
        "\n",
        "And slicable\n",
        "\n",
        "There are so many list methods -- look that up (python list methods)\n"
      ]
    },
    {
      "cell_type": "code",
      "metadata": {
        "id": "5WGYhlpBG8ri",
        "colab": {
          "base_uri": "https://localhost:8080/"
        },
        "outputId": "ae3110b4-0cb9-43c8-82ea-d776b7b66a3b"
      },
      "source": [
        "mylist = [1, 4, 6, \"hello\"]\n",
        "print(mylist)"
      ],
      "execution_count": null,
      "outputs": [
        {
          "output_type": "stream",
          "name": "stdout",
          "text": [
            "[1, 4, 6, 'hello']\n"
          ]
        }
      ]
    },
    {
      "cell_type": "code",
      "metadata": {
        "id": "rWO96HavfsLv"
      },
      "source": [
        "mystring = 'abcdefghijklmnop'\n",
        "print(mystring)"
      ],
      "execution_count": null,
      "outputs": []
    },
    {
      "cell_type": "code",
      "metadata": {
        "id": "JQSjBdPof5j1"
      },
      "source": [
        "for me in mylist:\n",
        "    print(type(me))"
      ],
      "execution_count": null,
      "outputs": []
    },
    {
      "cell_type": "code",
      "metadata": {
        "id": "bDCBaw-rf_oz"
      },
      "source": [
        "for me in mystring:\n",
        "    print(me, end='\\t')"
      ],
      "execution_count": null,
      "outputs": []
    },
    {
      "cell_type": "markdown",
      "source": [
        "'+=' vs '.append'.\n",
        "\n",
        "Here's a fun example which shows how one form of adding a string to a list treats the string as an interable, while the other form treats it as a singular object."
      ],
      "metadata": {
        "id": "SI4d1VMtCJAb"
      }
    },
    {
      "cell_type": "code",
      "metadata": {
        "id": "4jbCxcOckJK0",
        "colab": {
          "base_uri": "https://localhost:8080/"
        },
        "outputId": "b7199411-e306-4e85-82c4-99f9921e1293"
      },
      "source": [
        "mylist += 'the end'    # a += 1  is shorthand for a = a + 1\n",
        "mylist.append('the end')\n",
        "print(mylist)"
      ],
      "execution_count": null,
      "outputs": [
        {
          "output_type": "stream",
          "name": "stdout",
          "text": [
            "[1, 4, 6, 'hello', 't', 'h', 'e', ' ', 'e', 'n', 'd', 'the end']\n"
          ]
        }
      ]
    },
    {
      "cell_type": "markdown",
      "metadata": {
        "id": "enKfMJjuHgAf"
      },
      "source": [
        "# Iterable\n",
        "\n",
        "Means you can draw elements out of it in sequence\n",
        "\n",
        "`for` draws elements out of `range` one by one\n",
        "\n",
        "it can also draw elements one by one out of *any* iterable, including a list\n"
      ]
    },
    {
      "cell_type": "code",
      "metadata": {
        "id": "euzpYamcJJIV",
        "colab": {
          "base_uri": "https://localhost:8080/"
        },
        "outputId": "58d1a8fa-174d-442a-fcac-2a986950dae7"
      },
      "source": [
        "for i in range(2, 30, 3):   # oh, range can be fancy!\n",
        "    print(i, end=' ')\n"
      ],
      "execution_count": null,
      "outputs": [
        {
          "output_type": "stream",
          "name": "stdout",
          "text": [
            "2 5 8 11 14 17 20 23 26 29 "
          ]
        }
      ]
    },
    {
      "cell_type": "markdown",
      "metadata": {
        "id": "hO3H31AB2WEa"
      },
      "source": [
        "# Exercise\n",
        "\n",
        "* Calculate the fibonacci numbers.  (Don't use math.fibonacci)\n",
        "\n",
        "* each fib # is the sum of the previous two.  Start with 0, 1\n",
        "\n",
        "* change it so it's the previous *three*\n",
        "\n",
        "* ...or so that it start swith some other initial pair other than 0, 1\n",
        "\n",
        "\n",
        "\n"
      ]
    },
    {
      "cell_type": "code",
      "metadata": {
        "id": "36a0GAEEJeOZ"
      },
      "source": [
        "# add up the numbers\n",
        "a = 1\n",
        "for i in range(30)\n"
      ],
      "execution_count": null,
      "outputs": []
    }
  ]
}